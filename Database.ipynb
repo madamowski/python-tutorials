{
 "cells": [
  {
   "cell_type": "code",
   "execution_count": 1,
   "metadata": {
    "collapsed": false,
    "deletable": true,
    "editable": true
   },
   "outputs": [],
   "source": [
    "import pandas as pd\n",
    "from sqlalchemy import create_engine\n",
    "import os\n",
    "from flask import jsonify"
   ]
  },
  {
   "cell_type": "code",
   "execution_count": 2,
   "metadata": {
    "collapsed": false,
    "deletable": true,
    "editable": true
   },
   "outputs": [],
   "source": [
    "url = os.environ.get('DATABASE_URL','postgres://pt:pt@localhost:5432/PythonTutorials')"
   ]
  },
  {
   "cell_type": "code",
   "execution_count": 3,
   "metadata": {
    "collapsed": false,
    "deletable": true,
    "editable": true
   },
   "outputs": [],
   "source": [
    "engine = create_engine(url)"
   ]
  },
  {
   "cell_type": "code",
   "execution_count": 4,
   "metadata": {
    "collapsed": false,
    "deletable": true,
    "editable": true
   },
   "outputs": [],
   "source": [
    "data = pd.read_sql_query('select * from data',con=engine.connect())"
   ]
  },
  {
   "cell_type": "code",
   "execution_count": 5,
   "metadata": {
    "collapsed": false,
    "deletable": true,
    "editable": true
   },
   "outputs": [
    {
     "data": {
      "text/html": [
       "<div>\n",
       "<table border=\"1\" class=\"dataframe\">\n",
       "  <thead>\n",
       "    <tr style=\"text-align: right;\">\n",
       "      <th></th>\n",
       "      <th>id</th>\n",
       "      <th>date</th>\n",
       "      <th>key</th>\n",
       "      <th>name</th>\n",
       "      <th>value</th>\n",
       "    </tr>\n",
       "  </thead>\n",
       "  <tbody>\n",
       "    <tr>\n",
       "      <th>0</th>\n",
       "      <td>6ac700cc-e41e-11e6-a65d-e0f847320a3a</td>\n",
       "      <td>20170101</td>\n",
       "      <td>1</td>\n",
       "      <td>A</td>\n",
       "      <td>10.0</td>\n",
       "    </tr>\n",
       "    <tr>\n",
       "      <th>1</th>\n",
       "      <td>4d15fc1e-e41f-11e6-9cbf-e0f847320a3a</td>\n",
       "      <td>20170101</td>\n",
       "      <td>3</td>\n",
       "      <td>C</td>\n",
       "      <td>30.0</td>\n",
       "    </tr>\n",
       "    <tr>\n",
       "      <th>2</th>\n",
       "      <td>67a92bb4-e41f-11e6-8677-e0f847320a3a</td>\n",
       "      <td>20170101</td>\n",
       "      <td>3</td>\n",
       "      <td>C</td>\n",
       "      <td>30.0</td>\n",
       "    </tr>\n",
       "    <tr>\n",
       "      <th>3</th>\n",
       "      <td>1ba4e68a-e489-11e6-8b8b-e0f847320a3a</td>\n",
       "      <td>20170101</td>\n",
       "      <td>1</td>\n",
       "      <td>A</td>\n",
       "      <td>10.0</td>\n",
       "    </tr>\n",
       "    <tr>\n",
       "      <th>4</th>\n",
       "      <td>b596f40c-e489-11e6-bde2-e0f847320a3a</td>\n",
       "      <td>20170101</td>\n",
       "      <td>1</td>\n",
       "      <td>A</td>\n",
       "      <td>10.0</td>\n",
       "    </tr>\n",
       "    <tr>\n",
       "      <th>5</th>\n",
       "      <td>06a5e7b4-f6da-11e6-93e5-c82a141a9fc4</td>\n",
       "      <td>20170101</td>\n",
       "      <td>3</td>\n",
       "      <td>C</td>\n",
       "      <td>30.0</td>\n",
       "    </tr>\n",
       "  </tbody>\n",
       "</table>\n",
       "</div>"
      ],
      "text/plain": [
       "                                     id      date  key name  value\n",
       "0  6ac700cc-e41e-11e6-a65d-e0f847320a3a  20170101    1    A   10.0\n",
       "1  4d15fc1e-e41f-11e6-9cbf-e0f847320a3a  20170101    3    C   30.0\n",
       "2  67a92bb4-e41f-11e6-8677-e0f847320a3a  20170101    3    C   30.0\n",
       "3  1ba4e68a-e489-11e6-8b8b-e0f847320a3a  20170101    1    A   10.0\n",
       "4  b596f40c-e489-11e6-bde2-e0f847320a3a  20170101    1    A   10.0\n",
       "5  06a5e7b4-f6da-11e6-93e5-c82a141a9fc4  20170101    3    C   30.0"
      ]
     },
     "execution_count": 5,
     "metadata": {},
     "output_type": "execute_result"
    }
   ],
   "source": [
    "data"
   ]
  },
  {
   "cell_type": "code",
   "execution_count": 6,
   "metadata": {
    "collapsed": true,
    "deletable": true,
    "editable": true
   },
   "outputs": [],
   "source": [
    "connection = engine.connect()"
   ]
  },
  {
   "cell_type": "code",
   "execution_count": 7,
   "metadata": {
    "collapsed": true,
    "deletable": true,
    "editable": true
   },
   "outputs": [],
   "source": [
    "data = connection.execute(\"select * from data\").fetchall()"
   ]
  },
  {
   "cell_type": "code",
   "execution_count": 8,
   "metadata": {
    "collapsed": false,
    "deletable": true,
    "editable": true
   },
   "outputs": [
    {
     "data": {
      "text/plain": [
       "[(UUID('6ac700cc-e41e-11e6-a65d-e0f847320a3a'), 20170101, 1, 'A', Decimal('10.00')),\n",
       " (UUID('4d15fc1e-e41f-11e6-9cbf-e0f847320a3a'), 20170101, 3, 'C', Decimal('30.00')),\n",
       " (UUID('67a92bb4-e41f-11e6-8677-e0f847320a3a'), 20170101, 3, 'C', Decimal('30.00')),\n",
       " (UUID('1ba4e68a-e489-11e6-8b8b-e0f847320a3a'), 20170101, 1, 'A', Decimal('10.00')),\n",
       " (UUID('b596f40c-e489-11e6-bde2-e0f847320a3a'), 20170101, 1, 'A', Decimal('10.00')),\n",
       " (UUID('06a5e7b4-f6da-11e6-93e5-c82a141a9fc4'), 20170101, 3, 'C', Decimal('30.00'))]"
      ]
     },
     "execution_count": 8,
     "metadata": {},
     "output_type": "execute_result"
    }
   ],
   "source": [
    "data"
   ]
  }
 ],
 "metadata": {
  "anaconda-cloud": {},
  "kernelspec": {
   "display_name": "Python [conda env:python-tutorials]",
   "language": "python",
   "name": "conda-env-python-tutorials-py"
  },
  "language_info": {
   "codemirror_mode": {
    "name": "ipython",
    "version": 3
   },
   "file_extension": ".py",
   "mimetype": "text/x-python",
   "name": "python",
   "nbconvert_exporter": "python",
   "pygments_lexer": "ipython3",
   "version": "3.5.2"
  }
 },
 "nbformat": 4,
 "nbformat_minor": 0
}
