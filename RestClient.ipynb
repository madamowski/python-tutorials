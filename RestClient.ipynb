{
 "cells": [
  {
   "cell_type": "code",
   "execution_count": 1,
   "metadata": {
    "collapsed": true,
    "deletable": true,
    "editable": true
   },
   "outputs": [],
   "source": [
    "import requests\n",
    "import json"
   ]
  },
  {
   "cell_type": "code",
   "execution_count": 2,
   "metadata": {
    "collapsed": true,
    "deletable": true,
    "editable": true
   },
   "outputs": [],
   "source": [
    "url = 'http://localhost:5001/api/data'\n",
    "headers = {'content-type': 'application/json'}"
   ]
  },
  {
   "cell_type": "markdown",
   "metadata": {
    "deletable": true,
    "editable": true
   },
   "source": [
    "## Select All"
   ]
  },
  {
   "cell_type": "code",
   "execution_count": 5,
   "metadata": {
    "collapsed": false,
    "deletable": true,
    "editable": true
   },
   "outputs": [],
   "source": [
    "r = requests.get(url)"
   ]
  },
  {
   "cell_type": "code",
   "execution_count": 6,
   "metadata": {
    "collapsed": false,
    "deletable": true,
    "editable": true
   },
   "outputs": [
    {
     "data": {
      "text/plain": [
       "200"
      ]
     },
     "execution_count": 6,
     "metadata": {},
     "output_type": "execute_result"
    }
   ],
   "source": [
    "r.status_code"
   ]
  },
  {
   "cell_type": "code",
   "execution_count": 7,
   "metadata": {
    "collapsed": false,
    "deletable": true,
    "editable": true
   },
   "outputs": [
    {
     "data": {
      "text/plain": [
       "{'data': [{'date': 20170101,\n",
       "   'id': '6ac700cc-e41e-11e6-a65d-e0f847320a3a',\n",
       "   'key': 1,\n",
       "   'name': 'A',\n",
       "   'value': '10.00'},\n",
       "  {'date': 20170101,\n",
       "   'id': '4d15fc1e-e41f-11e6-9cbf-e0f847320a3a',\n",
       "   'key': 3,\n",
       "   'name': 'C',\n",
       "   'value': '30.00'},\n",
       "  {'date': 20170101,\n",
       "   'id': '67a92bb4-e41f-11e6-8677-e0f847320a3a',\n",
       "   'key': 3,\n",
       "   'name': 'C',\n",
       "   'value': '30.00'},\n",
       "  {'date': 20170101,\n",
       "   'id': '1ba4e68a-e489-11e6-8b8b-e0f847320a3a',\n",
       "   'key': 1,\n",
       "   'name': 'A',\n",
       "   'value': '10.00'},\n",
       "  {'date': 20170101,\n",
       "   'id': '38f8d958-e489-11e6-af05-e0f847320a3a',\n",
       "   'key': 3,\n",
       "   'name': 'C',\n",
       "   'value': '30.00'},\n",
       "  {'date': 20170101,\n",
       "   'id': 'b596f40c-e489-11e6-bde2-e0f847320a3a',\n",
       "   'key': 1,\n",
       "   'name': 'A',\n",
       "   'value': '10.00'}]}"
      ]
     },
     "execution_count": 7,
     "metadata": {},
     "output_type": "execute_result"
    }
   ],
   "source": [
    "data = json.loads(r.text)\n",
    "data"
   ]
  },
  {
   "cell_type": "markdown",
   "metadata": {
    "deletable": true,
    "editable": true
   },
   "source": [
    "## Select"
   ]
  },
  {
   "cell_type": "code",
   "execution_count": 8,
   "metadata": {
    "collapsed": false,
    "deletable": true,
    "editable": true
   },
   "outputs": [
    {
     "data": {
      "text/plain": [
       "{'data': {'date': 20170101,\n",
       "  'id': '6ac700cc-e41e-11e6-a65d-e0f847320a3a',\n",
       "  'key': 1,\n",
       "  'name': 'A',\n",
       "  'value': '10.00'}}"
      ]
     },
     "execution_count": 8,
     "metadata": {},
     "output_type": "execute_result"
    }
   ],
   "source": [
    "nurl = url + '/6ac700cc-e41e-11e6-a65d-e0f847320a3a'\n",
    "data1 = requests.get(nurl)\n",
    "json.loads(data1.text)"
   ]
  },
  {
   "cell_type": "markdown",
   "metadata": {
    "deletable": true,
    "editable": true
   },
   "source": [
    "## Insert"
   ]
  },
  {
   "cell_type": "code",
   "execution_count": 9,
   "metadata": {
    "collapsed": false,
    "deletable": true,
    "editable": true
   },
   "outputs": [
    {
     "data": {
      "text/plain": [
       "{'data': {'date': 20170101,\n",
       "  'id': '06a5e7b4-f6da-11e6-93e5-c82a141a9fc4',\n",
       "  'key': 3,\n",
       "  'name': 'C',\n",
       "  'value': '30.00'}}"
      ]
     },
     "execution_count": 9,
     "metadata": {},
     "output_type": "execute_result"
    }
   ],
   "source": [
    "payload = {'date': 20170101,\n",
    "   'key': 3,\n",
    "   'name': 'C',\n",
    "   'value': '30.00'}\n",
    "rnew = requests.post(url,data=json.dumps(payload), headers=headers)\n",
    "json.loads(rnew.text)"
   ]
  },
  {
   "cell_type": "markdown",
   "metadata": {
    "deletable": true,
    "editable": true
   },
   "source": [
    "## Update"
   ]
  },
  {
   "cell_type": "code",
   "execution_count": 10,
   "metadata": {
    "collapsed": false,
    "deletable": true,
    "editable": true
   },
   "outputs": [
    {
     "data": {
      "text/plain": [
       "{'data': {'date': 20170101,\n",
       "  'id': '38f8d958-e489-11e6-af05-e0f847320a3a',\n",
       "  'key': 3,\n",
       "  'name': 'C',\n",
       "  'value': '300.00'}}"
      ]
     },
     "execution_count": 10,
     "metadata": {},
     "output_type": "execute_result"
    }
   ],
   "source": [
    "nurl = url + '/38f8d958-e489-11e6-af05-e0f847320a3a'\n",
    "payload = {'date': 20170101,\n",
    "   'key': 3,\n",
    "   'name': 'C',\n",
    "   'value': '300.00'}\n",
    "rnew = requests.put(nurl,data=json.dumps(payload), headers=headers)\n",
    "json.loads(rnew.text)"
   ]
  },
  {
   "cell_type": "markdown",
   "metadata": {
    "deletable": true,
    "editable": true
   },
   "source": [
    "## Delete"
   ]
  },
  {
   "cell_type": "code",
   "execution_count": 11,
   "metadata": {
    "collapsed": false,
    "deletable": true,
    "editable": true
   },
   "outputs": [
    {
     "data": {
      "text/plain": [
       "200"
      ]
     },
     "execution_count": 11,
     "metadata": {},
     "output_type": "execute_result"
    }
   ],
   "source": [
    "nurl = url + '/38f8d958-e489-11e6-af05-e0f847320a3a'\n",
    "rnew = requests.delete(nurl)\n",
    "json.loads(rnew.text)"
   ]
  }
 ],
 "metadata": {
  "anaconda-cloud": {},
  "kernelspec": {
   "display_name": "Python [conda env:python-tutorials]",
   "language": "python",
   "name": "conda-env-python-tutorials-py"
  },
  "language_info": {
   "codemirror_mode": {
    "name": "ipython",
    "version": 3
   },
   "file_extension": ".py",
   "mimetype": "text/x-python",
   "name": "python",
   "nbconvert_exporter": "python",
   "pygments_lexer": "ipython3",
   "version": "3.5.2"
  }
 },
 "nbformat": 4,
 "nbformat_minor": 0
}
