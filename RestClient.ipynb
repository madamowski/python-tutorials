{
 "cells": [
  {
   "cell_type": "code",
   "execution_count": 14,
   "metadata": {
    "collapsed": true
   },
   "outputs": [],
   "source": [
    "import requests\n",
    "import json"
   ]
  },
  {
   "cell_type": "code",
   "execution_count": 56,
   "metadata": {
    "collapsed": true
   },
   "outputs": [],
   "source": [
    "url = 'http://localhost:5001/api/data'\n",
    "headers = {'content-type': 'application/json'}"
   ]
  },
  {
   "cell_type": "markdown",
   "metadata": {},
   "source": [
    "## Select All"
   ]
  },
  {
   "cell_type": "code",
   "execution_count": 86,
   "metadata": {
    "collapsed": false
   },
   "outputs": [],
   "source": [
    "r = requests.get(url)"
   ]
  },
  {
   "cell_type": "code",
   "execution_count": 87,
   "metadata": {
    "collapsed": false
   },
   "outputs": [
    {
     "data": {
      "text/plain": [
       "200"
      ]
     },
     "execution_count": 87,
     "metadata": {},
     "output_type": "execute_result"
    }
   ],
   "source": [
    "r.status_code"
   ]
  },
  {
   "cell_type": "code",
   "execution_count": 88,
   "metadata": {
    "collapsed": false
   },
   "outputs": [
    {
     "data": {
      "text/plain": [
       "{'data': [{'date': 20170101,\n",
       "   'id': '6ac700cc-e41e-11e6-a65d-e0f847320a3a',\n",
       "   'key': 1,\n",
       "   'name': 'A',\n",
       "   'value': '10.00'},\n",
       "  {'date': 20170101,\n",
       "   'id': '4d15fc1e-e41f-11e6-9cbf-e0f847320a3a',\n",
       "   'key': 3,\n",
       "   'name': 'C',\n",
       "   'value': '30.00'},\n",
       "  {'date': 20170101,\n",
       "   'id': '67a92bb4-e41f-11e6-8677-e0f847320a3a',\n",
       "   'key': 3,\n",
       "   'name': 'C',\n",
       "   'value': '30.00'}]}"
      ]
     },
     "execution_count": 88,
     "metadata": {},
     "output_type": "execute_result"
    }
   ],
   "source": [
    "data = json.loads(r.text)\n",
    "data"
   ]
  },
  {
   "cell_type": "markdown",
   "metadata": {},
   "source": [
    "## Select"
   ]
  },
  {
   "cell_type": "code",
   "execution_count": 89,
   "metadata": {
    "collapsed": false
   },
   "outputs": [
    {
     "data": {
      "text/plain": [
       "{'data': {'date': 20170101,\n",
       "  'id': '6ac700cc-e41e-11e6-a65d-e0f847320a3a',\n",
       "  'key': 1,\n",
       "  'name': 'A',\n",
       "  'value': '10.00'}}"
      ]
     },
     "execution_count": 89,
     "metadata": {},
     "output_type": "execute_result"
    }
   ],
   "source": [
    "nurl = url + '/6ac700cc-e41e-11e6-a65d-e0f847320a3a'\n",
    "data1 = requests.get(nurl)\n",
    "json.loads(data1.text)"
   ]
  },
  {
   "cell_type": "markdown",
   "metadata": {},
   "source": [
    "## Insert"
   ]
  },
  {
   "cell_type": "code",
   "execution_count": 81,
   "metadata": {
    "collapsed": false
   },
   "outputs": [
    {
     "data": {
      "text/plain": [
       "{'data': {'date': 20170101,\n",
       "  'id': '158202c6-e420-11e6-8966-e0f847320a3a',\n",
       "  'key': 3,\n",
       "  'name': 'C',\n",
       "  'value': '30.00'}}"
      ]
     },
     "execution_count": 81,
     "metadata": {},
     "output_type": "execute_result"
    }
   ],
   "source": [
    "payload = {'date': 20170101,\n",
    "   'key': 3,\n",
    "   'name': 'C',\n",
    "   'value': '30.00'}\n",
    "rnew = requests.post(url,data=json.dumps(payload), headers=headers)\n",
    "json.loads(rnew.text)"
   ]
  },
  {
   "cell_type": "markdown",
   "metadata": {},
   "source": [
    "## Update"
   ]
  },
  {
   "cell_type": "code",
   "execution_count": 82,
   "metadata": {
    "collapsed": false
   },
   "outputs": [
    {
     "data": {
      "text/plain": [
       "{'data': {'date': 20170101,\n",
       "  'id': '158202c6-e420-11e6-8966-e0f847320a3a',\n",
       "  'key': 3,\n",
       "  'name': 'C',\n",
       "  'value': '300.00'}}"
      ]
     },
     "execution_count": 82,
     "metadata": {},
     "output_type": "execute_result"
    }
   ],
   "source": [
    "nurl = url + '/158202c6-e420-11e6-8966-e0f847320a3a'\n",
    "payload = {'date': 20170101,\n",
    "   'key': 3,\n",
    "   'name': 'C',\n",
    "   'value': '300.00'}\n",
    "rnew = requests.put(nurl,data=json.dumps(payload), headers=headers)\n",
    "json.loads(rnew.text)"
   ]
  },
  {
   "cell_type": "markdown",
   "metadata": {},
   "source": [
    "## Delete"
   ]
  },
  {
   "cell_type": "code",
   "execution_count": 83,
   "metadata": {
    "collapsed": false
   },
   "outputs": [
    {
     "data": {
      "text/plain": [
       "200"
      ]
     },
     "execution_count": 83,
     "metadata": {},
     "output_type": "execute_result"
    }
   ],
   "source": [
    "nurl = url + '/158202c6-e420-11e6-8966-e0f847320a3a'\n",
    "rnew = requests.delete(nurl)\n",
    "json.loads(rnew.text)"
   ]
  }
 ],
 "metadata": {
  "anaconda-cloud": {},
  "kernelspec": {
   "display_name": "Python [Root]",
   "language": "python",
   "name": "Python [Root]"
  },
  "language_info": {
   "codemirror_mode": {
    "name": "ipython",
    "version": 3
   },
   "file_extension": ".py",
   "mimetype": "text/x-python",
   "name": "python",
   "nbconvert_exporter": "python",
   "pygments_lexer": "ipython3",
   "version": "3.5.2"
  }
 },
 "nbformat": 4,
 "nbformat_minor": 0
}
