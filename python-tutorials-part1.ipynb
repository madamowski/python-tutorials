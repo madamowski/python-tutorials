{
 "cells": [
  {
   "cell_type": "markdown",
   "metadata": {},
   "source": [
    "# Import common libraries\n",
    "* [numpy](http://www.numpy.org/) package for scientific computing\n",
    "* [pandas](http://pandas.pydata.org/) data structures and data analysis\n",
    "* [matplotlib](http://matplotlib.org/) 2D plotting library"
   ]
  },
  {
   "cell_type": "code",
   "execution_count": 1,
   "metadata": {
    "collapsed": true
   },
   "outputs": [],
   "source": [
    "import numpy as np\n",
    "import pandas as pd\n",
    "import matplotlib.pyplot as plt"
   ]
  },
  {
   "cell_type": "markdown",
   "metadata": {},
   "source": [
    "## make matplotlib inline"
   ]
  },
  {
   "cell_type": "code",
   "execution_count": 2,
   "metadata": {
    "collapsed": false
   },
   "outputs": [],
   "source": [
    "%matplotlib inline"
   ]
  },
  {
   "cell_type": "markdown",
   "metadata": {},
   "source": [
    "## Arrays"
   ]
  },
  {
   "cell_type": "code",
   "execution_count": 3,
   "metadata": {
    "collapsed": false
   },
   "outputs": [],
   "source": [
    "array1 = np.array([1,2,1,2,3])\n",
    "array2 = np.array([[1,1],[2,2],[3,3],[4,2]])\n",
    "array3 = np.random.randn(10)\n",
    "array4 = np.linspace(0,10,50)"
   ]
  },
  {
   "cell_type": "markdown",
   "metadata": {},
   "source": [
    "## Series"
   ]
  },
  {
   "cell_type": "code",
   "execution_count": 4,
   "metadata": {
    "collapsed": false
   },
   "outputs": [
    {
     "data": {
      "text/plain": [
       "<matplotlib.axes._subplots.AxesSubplot at 0x1140ddb70>"
      ]
     },
     "execution_count": 4,
     "metadata": {},
     "output_type": "execute_result"
    },
    {
     "data": {
      "image/png": "[encoded data removed]",
      "text/plain": [
       "<matplotlib.figure.Figure at 0x1140dd0b8>"
      ]
     },
     "metadata": {},
     "output_type": "display_data"
    }
   ],
   "source": [
    "s = pd.Series(array1)\n",
    "s.plot(color='r')"
   ]
  },
  {
   "cell_type": "markdown",
   "metadata": {},
   "source": [
    "## DataFrames"
   ]
  },
  {
   "cell_type": "code",
   "execution_count": 5,
   "metadata": {
    "collapsed": false
   },
   "outputs": [
    {
     "data": {
      "text/plain": [
       "<matplotlib.axes._subplots.AxesSubplot at 0x116f46ba8>"
      ]
     },
     "execution_count": 5,
     "metadata": {},
     "output_type": "execute_result"
    },
    {
     "data": {
      "image/png": "[encoded data removed]",
      "text/plain": [
       "<matplotlib.figure.Figure at 0x114185940>"
      ]
     },
     "metadata": {},
     "output_type": "display_data"
    }
   ],
   "source": [
    "df = pd.DataFrame(array2,columns=['x','y'])\n",
    "df.plot(x='x',y='y',color='g')"
   ]
  },
  {
   "cell_type": "code",
   "execution_count": 6,
   "metadata": {
    "collapsed": false
   },
   "outputs": [
    {
     "data": {
      "image/png": "[encoded data removed]",
      "text/plain": [
       "<matplotlib.figure.Figure at 0x11a3b8f28>"
      ]
     },
     "metadata": {},
     "output_type": "display_data"
    }
   ],
   "source": [
    "plt.plot(array3,array3*2)\n",
    "plt.title('Plot')\n",
    "plt.show()"
   ]
  },
  {
   "cell_type": "markdown",
   "metadata": {},
   "source": [
    "## Use Bokeh\n",
    "* [bokeh](http://bokeh.pydata.org/) interactive visualization library"
   ]
  },
  {
   "cell_type": "code",
   "execution_count": 7,
   "metadata": {
    "collapsed": false
   },
   "outputs": [
    {
     "data": {
      "text/html": [
       "\n",
       "\n",
       "    <script type=\"text/javascript\">\n",
       "      \n",
       "      (function(global) {\n",
       "        function now() {\n",
       "          return new Date();\n",
       "        }\n",
       "      \n",
       "        if (typeof (window._bokeh_onload_callbacks) === \"undefined\") {\n",
       "          window._bokeh_onload_callbacks = [];\n",
       "        }\n",
       "      \n",
       "        function run_callbacks() {\n",
       "          window._bokeh_onload_callbacks.forEach(function(callback) { callback() });\n",
       "          delete window._bokeh_onload_callbacks\n",
       "          console.info(\"Bokeh: all callbacks have finished\");\n",
       "        }\n",
       "      \n",
       "        function load_libs(js_urls, callback) {\n",
       "          window._bokeh_onload_callbacks.push(callback);\n",
       "          if (window._bokeh_is_loading > 0) {\n",
       "            console.log(\"Bokeh: BokehJS is being loaded, scheduling callback at\", now());\n",
       "            return null;\n",
       "          }\n",
       "          if (js_urls == null || js_urls.length === 0) {\n",
       "            run_callbacks();\n",
       "            return null;\n",
       "          }\n",
       "          console.log(\"Bokeh: BokehJS not loaded, scheduling load and callback at\", now());\n",
       "          window._bokeh_is_loading = js_urls.length;\n",
       "          for (var i = 0; i < js_urls.length; i++) {\n",
       "            var url = js_urls[i];\n",
       "            var s = document.createElement('script');\n",
       "            s.src = url;\n",
       "            s.async = false;\n",
       "            s.onreadystatechange = s.onload = function() {\n",
       "              window._bokeh_is_loading--;\n",
       "              if (window._bokeh_is_loading === 0) {\n",
       "                console.log(\"Bokeh: all BokehJS libraries loaded\");\n",
       "                run_callbacks()\n",
       "              }\n",
       "            };\n",
       "            s.onerror = function() {\n",
       "              console.warn(\"failed to load library \" + url);\n",
       "            };\n",
       "            console.log(\"Bokeh: injecting script tag for BokehJS library: \", url);\n",
       "            document.getElementsByTagName(\"head\")[0].appendChild(s);\n",
       "          }\n",
       "        };var js_urls = ['https://cdn.pydata.org/bokeh/release/bokeh-0.11.0.min.js', 'https://cdn.pydata.org/bokeh/release/bokeh-widgets-0.11.0.min.js', 'https://cdn.pydata.org/bokeh/release/bokeh-compiler-0.11.0.min.js'];\n",
       "      \n",
       "        var inline_js = [\n",
       "          function(Bokeh) {\n",
       "            Bokeh.set_log_level(\"info\");\n",
       "          },\n",
       "          function(Bokeh) {\n",
       "            console.log(\"Bokeh: injecting CSS: https://cdn.pydata.org/bokeh/release/bokeh-0.11.0.min.css\");\n",
       "            Bokeh.embed.inject_css(\"https://cdn.pydata.org/bokeh/release/bokeh-0.11.0.min.css\");\n",
       "            console.log(\"Bokeh: injecting CSS: https://cdn.pydata.org/bokeh/release/bokeh-widgets-0.11.0.min.css\");\n",
       "            Bokeh.embed.inject_css(\"https://cdn.pydata.org/bokeh/release/bokeh-widgets-0.11.0.min.css\");\n",
       "          }\n",
       "        ];\n",
       "      \n",
       "        function run_inline_js() {\n",
       "          for (var i = 0; i < inline_js.length; i++) {\n",
       "            inline_js[i](window.Bokeh);\n",
       "          }\n",
       "        }\n",
       "      \n",
       "        if (window._bokeh_is_loading === 0) {\n",
       "          console.log(\"Bokeh: BokehJS loaded, going straight to plotting\");\n",
       "          run_inline_js();\n",
       "        } else {\n",
       "          load_libs(js_urls, function() {\n",
       "            console.log(\"Bokeh: BokehJS plotting callback run at\", now());\n",
       "            run_inline_js();\n",
       "          });\n",
       "        }\n",
       "      }(this));\n",
       "    </script>\n",
       "    <div>\n",
       "        <a href=\"http://bokeh.pydata.org\" target=\"_blank\" class=\"bk-logo bk-logo-small bk-logo-notebook\"></a>\n",
       "        <span>BokehJS successfully loaded.</span>\n",
       "    </div>"
      ]
     },
     "metadata": {},
     "output_type": "execute_result"
    }
   ],
   "source": [
    "import bokeh.io\n",
    "import bokeh.mpl\n",
    "import bokeh.plotting\n",
    "\n",
    "# set inline viewing\n",
    "bokeh.io.output_notebook()"
   ]
  },
  {
   "cell_type": "code",
   "execution_count": 8,
   "metadata": {
    "collapsed": false
   },
   "outputs": [
    {
     "data": {
      "text/html": [
       "\n",
       "\n",
       "    <div class=\"plotdiv\" id=\"5df564ee-2b1d-4eee-a25c-60c88362b5a1\"></div>\n",
       "<script type=\"text/javascript\">\n",
       "  \n",
       "  (function(global) {\n",
       "    function now() {\n",
       "      return new Date();\n",
       "    }\n",
       "  \n",
       "    if (typeof (window._bokeh_onload_callbacks) === \"undefined\") {\n",
       "      window._bokeh_onload_callbacks = [];\n",
       "    }\n",
       "  \n",
       "    function run_callbacks() {\n",
       "      window._bokeh_onload_callbacks.forEach(function(callback) { callback() });\n",
       "      delete window._bokeh_onload_callbacks\n",
       "      console.info(\"Bokeh: all callbacks have finished\");\n",
       "    }\n",
       "  \n",
       "    function load_libs(js_urls, callback) {\n",
       "      window._bokeh_onload_callbacks.push(callback);\n",
       "      if (window._bokeh_is_loading > 0) {\n",
       "        console.log(\"Bokeh: BokehJS is being loaded, scheduling callback at\", now());\n",
       "        return null;\n",
       "      }\n",
       "      if (js_urls == null || js_urls.length === 0) {\n",
       "        run_callbacks();\n",
       "        return null;\n",
       "      }\n",
       "      console.log(\"Bokeh: BokehJS not loaded, scheduling load and callback at\", now());\n",
       "      window._bokeh_is_loading = js_urls.length;\n",
       "      for (var i = 0; i < js_urls.length; i++) {\n",
       "        var url = js_urls[i];\n",
       "        var s = document.createElement('script');\n",
       "        s.src = url;\n",
       "        s.async = false;\n",
       "        s.onreadystatechange = s.onload = function() {\n",
       "          window._bokeh_is_loading--;\n",
       "          if (window._bokeh_is_loading === 0) {\n",
       "            console.log(\"Bokeh: all BokehJS libraries loaded\");\n",
       "            run_callbacks()\n",
       "          }\n",
       "        };\n",
       "        s.onerror = function() {\n",
       "          console.warn(\"failed to load library \" + url);\n",
       "        };\n",
       "        console.log(\"Bokeh: injecting script tag for BokehJS library: \", url);\n",
       "        document.getElementsByTagName(\"head\")[0].appendChild(s);\n",
       "      }\n",
       "    };var element = document.getElementById(\"5df564ee-2b1d-4eee-a25c-60c88362b5a1\");\n",
       "    if (element == null) {\n",
       "      console.log(\"Bokeh: ERROR: autoload.js configured with elementid '5df564ee-2b1d-4eee-a25c-60c88362b5a1' but no matching script tag was found. \")\n",
       "      return false;\n",
       "    }var js_urls = [];\n",
       "  \n",
       "    var inline_js = [\n",
       "      function(Bokeh) {\n",
       "        Bokeh.$(function() {\n",
       "            var docs_json = {\"fbf7e9ef-8fdf-4647-9d9e-f4a996df0103\": {\"title\": \"Bokeh Application\", \"roots\": {\"root_ids\": [\"2bb5ff20-2d4b-4790-a8bd-305295174cd5\"], \"references\": [{\"type\": \"BoxZoomTool\", \"id\": \"ec5f5a2f-5041-46d4-b9ce-c19e574dbe3e\", \"attributes\": {\"overlay\": {\"type\": \"BoxAnnotation\", \"id\": \"08b76066-820f-4243-b462-cb86982a622d\"}, \"plot\": {\"type\": \"Plot\", \"id\": \"2bb5ff20-2d4b-4790-a8bd-305295174cd5\"}}}, {\"type\": \"LinearAxis\", \"id\": \"8058d087-692d-4708-908f-d38cf8435a66\", \"attributes\": {\"major_label_text_font_size\": {\"value\": \"10.000000pt\"}, \"ticker\": {\"type\": \"BasicTicker\", \"id\": \"5008cb1f-6273-43bc-a6b4-ccb2b9a45689\"}, \"axis_label_text_font_size\": {\"value\": \"10.000000pt\"}, \"axis_label_text_font\": \"sans-serif\", \"formatter\": {\"type\": \"BasicTickFormatter\", \"id\": \"cd911042-f373-4268-8a13-368a8f3824b3\"}, \"major_label_text_font\": \"sans-serif\", \"plot\": {\"type\": \"Plot\", \"id\": \"2bb5ff20-2d4b-4790-a8bd-305295174cd5\"}}}, {\"type\": \"HelpTool\", \"id\": \"6bbd818a-9690-40f3-9560-b326732d79cb\", \"attributes\": {\"plot\": {\"type\": \"Plot\", \"id\": \"2bb5ff20-2d4b-4790-a8bd-305295174cd5\"}}}, {\"type\": \"ColumnDataSource\", \"id\": \"b9a2ff0a-e0ad-443e-bddb-842000f0c62b\", \"attributes\": {\"column_names\": [\"Series 0\", \"Series 1\"], \"callback\": null, \"data\": {\"Series 1\": [1.0, 2.0, 1.0, 2.0, 3.0], \"Series 0\": [0.0, 1.0, 2.0, 3.0, 4.0]}}}, {\"type\": \"ResizeTool\", \"id\": \"5ae22df5-6c68-482c-afbc-51899c9de9c7\", \"attributes\": {\"plot\": {\"type\": \"Plot\", \"id\": \"2bb5ff20-2d4b-4790-a8bd-305295174cd5\"}}}, {\"type\": \"Plot\", \"id\": \"2bb5ff20-2d4b-4790-a8bd-305295174cd5\", \"attributes\": {\"plot_width\": 480, \"background_fill_color\": {\"value\": \"white\"}, \"below\": [{\"type\": \"LinearAxis\", \"id\": \"28f8a841-2596-4416-bc87-0e6bd29ea045\"}], \"y_range\": {\"type\": \"DataRange1d\", \"id\": \"8427fb59-e9f3-411d-9bf9-beb3c9612daa\"}, \"tool_events\": {\"type\": \"ToolEvents\", \"id\": \"ffb9430f-5a54-4014-b59a-1b2553c4a15a\"}, \"left\": [{\"type\": \"LinearAxis\", \"id\": \"8058d087-692d-4708-908f-d38cf8435a66\"}], \"renderers\": [{\"type\": \"LinearAxis\", \"id\": \"28f8a841-2596-4416-bc87-0e6bd29ea045\"}, {\"type\": \"Grid\", \"id\": \"d2b68748-b033-4d90-836d-b8cd77f64438\"}, {\"type\": \"LinearAxis\", \"id\": \"8058d087-692d-4708-908f-d38cf8435a66\"}, {\"type\": \"Grid\", \"id\": \"986e318d-9c22-4599-bb11-c7c4b7d37dc2\"}, {\"type\": \"GlyphRenderer\", \"id\": \"4b450a18-44c0-4e81-aa6a-b0106f302ee0\"}, {\"type\": \"BoxAnnotation\", \"id\": \"08b76066-820f-4243-b462-cb86982a622d\"}, {\"type\": \"GlyphRenderer\", \"id\": \"60755190-a9bf-4eb4-93e4-7dbd68af0e13\"}], \"tools\": [{\"type\": \"PanTool\", \"id\": \"d1148394-ec7d-4a7f-a9d6-eb176ef06bb3\"}, {\"type\": \"WheelZoomTool\", \"id\": \"13c47d07-ed11-483e-b362-c4b5403eb9fd\"}, {\"type\": \"BoxZoomTool\", \"id\": \"ec5f5a2f-5041-46d4-b9ce-c19e574dbe3e\"}, {\"type\": \"PreviewSaveTool\", \"id\": \"a4c9f94b-2eef-4437-a68c-5bc06e82048c\"}, {\"type\": \"ResizeTool\", \"id\": \"5ae22df5-6c68-482c-afbc-51899c9de9c7\"}, {\"type\": \"ResetTool\", \"id\": \"38ec6993-8655-49f7-af22-d37db7f67995\"}, {\"type\": \"HelpTool\", \"id\": \"6bbd818a-9690-40f3-9560-b326732d79cb\"}], \"plot_height\": 320, \"x_range\": {\"type\": \"DataRange1d\", \"id\": \"1730f449-a1d5-42e2-af5b-ac362f57f87e\"}}}, {\"type\": \"GlyphRenderer\", \"id\": \"60755190-a9bf-4eb4-93e4-7dbd68af0e13\", \"attributes\": {\"selection_glyph\": null, \"nonselection_glyph\": null, \"hover_glyph\": null, \"glyph\": {\"type\": \"Line\", \"id\": \"55ffc526-25d6-4449-aceb-0c2674ede3e8\"}, \"data_source\": {\"type\": \"ColumnDataSource\", \"id\": \"b9a2ff0a-e0ad-443e-bddb-842000f0c62b\"}}}, {\"type\": \"BasicTicker\", \"id\": \"5008cb1f-6273-43bc-a6b4-ccb2b9a45689\", \"attributes\": {}}, {\"type\": \"GlyphRenderer\", \"id\": \"4b450a18-44c0-4e81-aa6a-b0106f302ee0\", \"attributes\": {\"selection_glyph\": null, \"nonselection_glyph\": null, \"hover_glyph\": null, \"glyph\": {\"type\": \"X\", \"id\": \"3c0f0f18-6a53-4da0-898a-89e16c13d885\"}, \"data_source\": {\"type\": \"ColumnDataSource\", \"id\": \"d26c149a-4042-4903-9809-f7af428f6d23\"}}}, {\"type\": \"PreviewSaveTool\", \"id\": \"a4c9f94b-2eef-4437-a68c-5bc06e82048c\", \"attributes\": {\"plot\": {\"type\": \"Plot\", \"id\": \"2bb5ff20-2d4b-4790-a8bd-305295174cd5\"}}}, {\"type\": \"DataRange1d\", \"id\": \"1730f449-a1d5-42e2-af5b-ac362f57f87e\", \"attributes\": {\"callback\": null}}, {\"type\": \"BoxAnnotation\", \"id\": \"08b76066-820f-4243-b462-cb86982a622d\", \"attributes\": {\"fill_alpha\": {\"value\": 0.5}, \"fill_color\": {\"value\": \"lightgrey\"}, \"right_units\": \"screen\", \"top_units\": \"screen\", \"level\": \"overlay\", \"bottom_units\": \"screen\", \"render_mode\": \"css\", \"line_alpha\": {\"value\": 1.0}, \"line_color\": {\"value\": \"black\"}, \"left_units\": \"screen\", \"line_dash\": [4, 4], \"line_width\": {\"value\": 2}, \"plot\": null}}, {\"type\": \"ResetTool\", \"id\": \"38ec6993-8655-49f7-af22-d37db7f67995\", \"attributes\": {\"plot\": {\"type\": \"Plot\", \"id\": \"2bb5ff20-2d4b-4790-a8bd-305295174cd5\"}}}, {\"type\": \"BasicTickFormatter\", \"id\": \"cd911042-f373-4268-8a13-368a8f3824b3\", \"attributes\": {}}, {\"type\": \"PanTool\", \"id\": \"d1148394-ec7d-4a7f-a9d6-eb176ef06bb3\", \"attributes\": {\"plot\": {\"type\": \"Plot\", \"id\": \"2bb5ff20-2d4b-4790-a8bd-305295174cd5\"}}}, {\"type\": \"ColumnDataSource\", \"id\": \"d26c149a-4042-4903-9809-f7af428f6d23\", \"attributes\": {\"column_names\": [\"name\"], \"callback\": null, \"data\": {\"name\": \"ax_end\"}}}, {\"type\": \"LinearAxis\", \"id\": \"28f8a841-2596-4416-bc87-0e6bd29ea045\", \"attributes\": {\"major_label_text_font_size\": {\"value\": \"10.000000pt\"}, \"ticker\": {\"type\": \"BasicTicker\", \"id\": \"9a0f692c-30e0-4de1-a269-55678d6a566c\"}, \"axis_label_text_font_size\": {\"value\": \"10.000000pt\"}, \"axis_label_text_font\": \"sans-serif\", \"formatter\": {\"type\": \"BasicTickFormatter\", \"id\": \"5668f003-a74b-4182-9515-0c5dfa2f5dce\"}, \"major_label_text_font\": \"sans-serif\", \"plot\": {\"type\": \"Plot\", \"id\": \"2bb5ff20-2d4b-4790-a8bd-305295174cd5\"}}}, {\"type\": \"Grid\", \"id\": \"986e318d-9c22-4599-bb11-c7c4b7d37dc2\", \"attributes\": {\"dimension\": 1, \"ticker\": {\"type\": \"BasicTicker\", \"id\": \"5008cb1f-6273-43bc-a6b4-ccb2b9a45689\"}, \"grid_line_color\": {\"field\": \"k\"}, \"grid_line_width\": {\"value\": 0.5}, \"plot\": {\"type\": \"Plot\", \"id\": \"2bb5ff20-2d4b-4790-a8bd-305295174cd5\"}}}, {\"type\": \"DataRange1d\", \"id\": \"8427fb59-e9f3-411d-9bf9-beb3c9612daa\", \"attributes\": {\"callback\": null}}, {\"type\": \"BasicTicker\", \"id\": \"9a0f692c-30e0-4de1-a269-55678d6a566c\", \"attributes\": {}}, {\"type\": \"Line\", \"id\": \"55ffc526-25d6-4449-aceb-0c2674ede3e8\", \"attributes\": {\"x\": {\"field\": \"Series 0\"}, \"y\": {\"field\": \"Series 1\"}, \"line_color\": {\"value\": \"#FF0000\"}}}, {\"type\": \"ToolEvents\", \"id\": \"ffb9430f-5a54-4014-b59a-1b2553c4a15a\", \"attributes\": {}}, {\"type\": \"X\", \"id\": \"3c0f0f18-6a53-4da0-898a-89e16c13d885\", \"attributes\": {}}, {\"type\": \"BasicTickFormatter\", \"id\": \"5668f003-a74b-4182-9515-0c5dfa2f5dce\", \"attributes\": {}}, {\"type\": \"Grid\", \"id\": \"d2b68748-b033-4d90-836d-b8cd77f64438\", \"attributes\": {\"ticker\": {\"type\": \"BasicTicker\", \"id\": \"9a0f692c-30e0-4de1-a269-55678d6a566c\"}, \"grid_line_color\": {\"field\": \"k\"}, \"grid_line_width\": {\"value\": 0.5}, \"plot\": {\"type\": \"Plot\", \"id\": \"2bb5ff20-2d4b-4790-a8bd-305295174cd5\"}}}, {\"type\": \"WheelZoomTool\", \"id\": \"13c47d07-ed11-483e-b362-c4b5403eb9fd\", \"attributes\": {\"plot\": {\"type\": \"Plot\", \"id\": \"2bb5ff20-2d4b-4790-a8bd-305295174cd5\"}}}]}, \"version\": \"0.11.0\"}};\n",
       "            var render_items = [{\"docid\": \"fbf7e9ef-8fdf-4647-9d9e-f4a996df0103\", \"modelid\": \"2bb5ff20-2d4b-4790-a8bd-305295174cd5\", \"notebook_comms_target\": \"c8b71045-2bbe-4b86-96d8-a8e4566777e3\", \"elementid\": \"5df564ee-2b1d-4eee-a25c-60c88362b5a1\"}];\n",
       "            \n",
       "            Bokeh.embed.embed_items(docs_json, render_items);\n",
       "        });\n",
       "      },\n",
       "      function(Bokeh) {\n",
       "      }\n",
       "    ];\n",
       "  \n",
       "    function run_inline_js() {\n",
       "      for (var i = 0; i < inline_js.length; i++) {\n",
       "        inline_js[i](window.Bokeh);\n",
       "      }\n",
       "    }\n",
       "  \n",
       "    if (window._bokeh_is_loading === 0) {\n",
       "      console.log(\"Bokeh: BokehJS loaded, going straight to plotting\");\n",
       "      run_inline_js();\n",
       "    } else {\n",
       "      load_libs(js_urls, function() {\n",
       "        console.log(\"Bokeh: BokehJS plotting callback run at\", now());\n",
       "        run_inline_js();\n",
       "      });\n",
       "    }\n",
       "  }(this));\n",
       "</script>"
      ]
     },
     "metadata": {},
     "output_type": "execute_result"
    },
    {
     "data": {
      "text/plain": [
       "<bokeh.io._CommsHandle at 0x11ae2be48>"
      ]
     },
     "execution_count": 8,
     "metadata": {},
     "output_type": "execute_result"
    }
   ],
   "source": [
    "s = pd.Series(array1)\n",
    "s.plot(color='r')\n",
    "# make interactive with bokeh\n",
    "bokeh.plotting.show(bokeh.mpl.to_bokeh())"
   ]
  },
  {
   "cell_type": "markdown",
   "metadata": {},
   "source": [
    "## Latex"
   ]
  },
  {
   "cell_type": "markdown",
   "metadata": {},
   "source": [
    "$E=mc^2$"
   ]
  },
  {
   "cell_type": "code",
   "execution_count": null,
   "metadata": {
    "collapsed": true
   },
   "outputs": [],
   "source": [
    ""
   ]
  }
 ],
 "metadata": {
  "kernelspec": {
   "display_name": "Python 3",
   "language": "python",
   "name": "python3"
  },
  "language_info": {
   "codemirror_mode": {
    "name": "ipython",
    "version": 3.0
   },
   "file_extension": ".py",
   "mimetype": "text/x-python",
   "name": "python",
   "nbconvert_exporter": "python",
   "pygments_lexer": "ipython3",
   "version": "3.5.1"
  }
 },
 "nbformat": 4,
 "nbformat_minor": 0
}