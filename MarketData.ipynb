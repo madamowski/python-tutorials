{
 "cells": [
  {
   "cell_type": "code",
   "execution_count": 29,
   "metadata": {
    "collapsed": false,
    "deletable": true,
    "editable": true
   },
   "outputs": [],
   "source": [
    "import pandas as pd\n",
    "import pandas_datareader.data as web\n",
    "import datetime\n",
    "from datetime import timedelta"
   ]
  },
  {
   "cell_type": "code",
   "execution_count": 30,
   "metadata": {
    "collapsed": false,
    "deletable": true,
    "editable": true
   },
   "outputs": [
    {
     "data": {
      "text/plain": [
       "(Timestamp('2017-02-12 00:00:00'), Timestamp('2017-02-19 00:00:00'))"
      ]
     },
     "execution_count": 30,
     "metadata": {},
     "output_type": "execute_result"
    }
   ],
   "source": [
    "end = pd.to_datetime('today')\n",
    "start = end - timedelta(days=7)\n",
    "start, end"
   ]
  },
  {
   "cell_type": "code",
   "execution_count": 31,
   "metadata": {
    "collapsed": false,
    "deletable": true,
    "editable": true
   },
   "outputs": [
    {
     "data": {
      "text/html": [
       "<div>\n",
       "<table border=\"1\" class=\"dataframe\">\n",
       "  <thead>\n",
       "    <tr style=\"text-align: right;\">\n",
       "      <th></th>\n",
       "      <th>Open</th>\n",
       "      <th>High</th>\n",
       "      <th>Low</th>\n",
       "      <th>Close</th>\n",
       "      <th>Volume</th>\n",
       "    </tr>\n",
       "    <tr>\n",
       "      <th>Date</th>\n",
       "      <th></th>\n",
       "      <th></th>\n",
       "      <th></th>\n",
       "      <th></th>\n",
       "      <th></th>\n",
       "    </tr>\n",
       "  </thead>\n",
       "  <tbody>\n",
       "    <tr>\n",
       "      <th>2017-02-13</th>\n",
       "      <td>270.74</td>\n",
       "      <td>280.79</td>\n",
       "      <td>270.51</td>\n",
       "      <td>280.60</td>\n",
       "      <td>7029605</td>\n",
       "    </tr>\n",
       "    <tr>\n",
       "      <th>2017-02-14</th>\n",
       "      <td>279.03</td>\n",
       "      <td>287.39</td>\n",
       "      <td>278.61</td>\n",
       "      <td>280.98</td>\n",
       "      <td>7345224</td>\n",
       "    </tr>\n",
       "    <tr>\n",
       "      <th>2017-02-15</th>\n",
       "      <td>280.00</td>\n",
       "      <td>282.24</td>\n",
       "      <td>276.44</td>\n",
       "      <td>279.76</td>\n",
       "      <td>4947856</td>\n",
       "    </tr>\n",
       "    <tr>\n",
       "      <th>2017-02-16</th>\n",
       "      <td>277.60</td>\n",
       "      <td>280.00</td>\n",
       "      <td>268.50</td>\n",
       "      <td>268.95</td>\n",
       "      <td>7077322</td>\n",
       "    </tr>\n",
       "    <tr>\n",
       "      <th>2017-02-17</th>\n",
       "      <td>265.80</td>\n",
       "      <td>272.89</td>\n",
       "      <td>264.15</td>\n",
       "      <td>272.23</td>\n",
       "      <td>6257149</td>\n",
       "    </tr>\n",
       "  </tbody>\n",
       "</table>\n",
       "</div>"
      ],
      "text/plain": [
       "              Open    High     Low   Close   Volume\n",
       "Date                                               \n",
       "2017-02-13  270.74  280.79  270.51  280.60  7029605\n",
       "2017-02-14  279.03  287.39  278.61  280.98  7345224\n",
       "2017-02-15  280.00  282.24  276.44  279.76  4947856\n",
       "2017-02-16  277.60  280.00  268.50  268.95  7077322\n",
       "2017-02-17  265.80  272.89  264.15  272.23  6257149"
      ]
     },
     "execution_count": 31,
     "metadata": {},
     "output_type": "execute_result"
    }
   ],
   "source": [
    "tsla = web.DataReader(\"TSLA\", 'google', start, end)\n",
    "tsla"
   ]
  },
  {
   "cell_type": "code",
   "execution_count": 32,
   "metadata": {
    "collapsed": false,
    "deletable": true,
    "editable": true
   },
   "outputs": [],
   "source": [
    "from pandas_datareader.oanda import get_oanda_currency_historical_rates"
   ]
  },
  {
   "cell_type": "code",
   "execution_count": 33,
   "metadata": {
    "collapsed": true,
    "deletable": true,
    "editable": true
   },
   "outputs": [],
   "source": [
    "In [3]: quote_currency = \"USD\"\n",
    "In [4]: base_currency = [\"EUR\", \"GBP\"]"
   ]
  },
  {
   "cell_type": "code",
   "execution_count": 34,
   "metadata": {
    "collapsed": false,
    "deletable": true,
    "editable": true
   },
   "outputs": [
    {
     "data": {
      "text/html": [
       "<div>\n",
       "<table border=\"1\" class=\"dataframe\">\n",
       "  <thead>\n",
       "    <tr style=\"text-align: right;\">\n",
       "      <th></th>\n",
       "      <th>EUR/USD</th>\n",
       "      <th>GBP/USD</th>\n",
       "    </tr>\n",
       "    <tr>\n",
       "      <th>Date</th>\n",
       "      <th></th>\n",
       "      <th></th>\n",
       "    </tr>\n",
       "  </thead>\n",
       "  <tbody>\n",
       "    <tr>\n",
       "      <th>2017-02-12</th>\n",
       "      <td>1.06440</td>\n",
       "      <td>1.249260</td>\n",
       "    </tr>\n",
       "    <tr>\n",
       "      <th>2017-02-13</th>\n",
       "      <td>1.06234</td>\n",
       "      <td>1.250610</td>\n",
       "    </tr>\n",
       "    <tr>\n",
       "      <th>2017-02-14</th>\n",
       "      <td>1.06014</td>\n",
       "      <td>1.250159</td>\n",
       "    </tr>\n",
       "    <tr>\n",
       "      <th>2017-02-15</th>\n",
       "      <td>1.05729</td>\n",
       "      <td>1.245049</td>\n",
       "    </tr>\n",
       "    <tr>\n",
       "      <th>2017-02-16</th>\n",
       "      <td>1.06324</td>\n",
       "      <td>1.248170</td>\n",
       "    </tr>\n",
       "    <tr>\n",
       "      <th>2017-02-17</th>\n",
       "      <td>1.06520</td>\n",
       "      <td>1.246131</td>\n",
       "    </tr>\n",
       "    <tr>\n",
       "      <th>2017-02-18</th>\n",
       "      <td>1.06209</td>\n",
       "      <td>1.241719</td>\n",
       "    </tr>\n",
       "  </tbody>\n",
       "</table>\n",
       "</div>"
      ],
      "text/plain": [
       "            EUR/USD   GBP/USD\n",
       "Date                         \n",
       "2017-02-12  1.06440  1.249260\n",
       "2017-02-13  1.06234  1.250610\n",
       "2017-02-14  1.06014  1.250159\n",
       "2017-02-15  1.05729  1.245049\n",
       "2017-02-16  1.06324  1.248170\n",
       "2017-02-17  1.06520  1.246131\n",
       "2017-02-18  1.06209  1.241719"
      ]
     },
     "execution_count": 34,
     "metadata": {},
     "output_type": "execute_result"
    }
   ],
   "source": [
    "df_rates = get_oanda_currency_historical_rates(\n",
    "            start, end,\n",
    "            quote_currency=quote_currency,\n",
    "            base_currency=base_currency\n",
    "        )\n",
    "df_rates"
   ]
  }
 ],
 "metadata": {
  "anaconda-cloud": {},
  "kernelspec": {
   "display_name": "Python [conda env:portfolio-jupyter]",
   "language": "python",
   "name": "conda-env-portfolio-jupyter-py"
  },
  "language_info": {
   "codemirror_mode": {
    "name": "ipython",
    "version": 3
   },
   "file_extension": ".py",
   "mimetype": "text/x-python",
   "name": "python",
   "nbconvert_exporter": "python",
   "pygments_lexer": "ipython3",
   "version": "3.5.2"
  }
 },
 "nbformat": 4,
 "nbformat_minor": 0
}
